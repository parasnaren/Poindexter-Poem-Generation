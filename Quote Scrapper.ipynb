{
 "cells": [
  {
   "cell_type": "code",
   "execution_count": 149,
   "metadata": {},
   "outputs": [],
   "source": [
    "import requests\n",
    "from bs4 import BeautifulSoup\n",
    "import re\n",
    "import pandas as pd\n",
    "import numpy as np\n",
    "import tensorflow as tf\n",
    "\n",
    "base_url = 'https://www.goodreads.com/author/quotes/8197776.Christopher_Poindexter'"
   ]
  },
  {
   "cell_type": "code",
   "execution_count": 160,
   "metadata": {},
   "outputs": [],
   "source": [
    "def process_quote(quote):\n",
    "    quote = quote.split('<span')[0]\n",
    "    space = re.compile('\\s\\s+')\n",
    "    remove_phrases = [space, '<div class=\"quoteText\">', '</div>', '―', '“', '”']\n",
    "    for phrase in remove_phrases:\n",
    "        quote = re.sub(phrase, '', quote)\n",
    "    newline_phrases = ['<br/>', '<br>', ',']\n",
    "    for phrase in newline_phrases:\n",
    "        quote = re.sub(phrase, '\\n', quote)\n",
    "    quote = re.sub('\\n\\s', '\\n', quote)\n",
    "    quote = re.sub(' ma ', ' my ', quote)\n",
    "    quote = quote.strip()\n",
    "    return quote"
   ]
  },
  {
   "cell_type": "code",
   "execution_count": 131,
   "metadata": {},
   "outputs": [],
   "source": [
    "# text = \"\"\"<div class=\"quoteText\">\n",
    "#       “And in the end, we were all just humans, drunk on the idea that love, only love, could heal our brokenness.”\n",
    "#   <br/>  ―\n",
    "#   <span class=\"authorOrTitle\">\n",
    "#     Christopher Poindexter,\n",
    "#   </span>\n",
    "# <span id=\"quote_book_link_23552486\">\n",
    "# <a class=\"authorOrTitle\" href=\"/work/quotes/43152160\">Naked Human</a>\n",
    "# </span>\n",
    "# <script charset=\"utf-8\" type=\"text/javascript\">\n",
    "# //<![CDATA[  \n",
    "\n",
    "#   function submitShelfLink(unique_id, book_id, shelf_id, shelf_name, submit_form, exclusive) {\n",
    "#     var checkbox_id = 'shelf_name_' + unique_id + '_' + shelf_id;\n",
    "#     var element = document.getElementById(checkbox_id)\n",
    "\n",
    "#     var checked = element.checked\n",
    "#     if (checked && exclusive) {\n",
    "#       // can't uncheck a radio by clicking it!\n",
    "#       return\n",
    "#     }\n",
    "#     if(document.getElementById(\"savingMessage\")){\n",
    "#       Element.show('savingMessage')\n",
    "#     }\n",
    "#     var element_id = 'shelfInDropdownName_' + unique_id + '_' + shelf_id;\n",
    "#     Element.update(element_id, \"saving...\");\n",
    "#     if (submit_form) {\n",
    "#       Element.hide('shelfDropdown_' + unique_id)\n",
    "#       var form = document.getElementById('addBookForm' + book_id)\n",
    "#       if (form) {\n",
    "#         form.shelf.value = shelf_name\n",
    "#         form.onsubmit()\n",
    "#       }\n",
    "#     }\n",
    "#     else {\n",
    "#       var action = checked ? 'remove' : ''\n",
    "#       element.checked = !element.checked\n",
    "#       new Ajax.Request('/shelf/add_to_shelf', {asynchronous:true, evalScripts:true, onSuccess:function(request){shelfSubmitted(request, book_id, checkbox_id, element_id, unique_id, shelf_name)}, parameters:'book_id=' + book_id + '&name=' + shelf_name + '&a=' + action + '&authenticity_token=' + encodeURIComponent('1a1Swx30biNwMiT3/9RL/rRo9fMHTdy4CL7Qx0SoxRz7nGBp6LyiAlATmRHPJO86ANuJlHxhGvDmg0g2MKhQWA==')})\n",
    "#     }\n",
    "#   }\n",
    "\n",
    "#   function shelfSubmitted(request, book_id, checkbox_id, element_id, unique_id, shelf_name) {\n",
    "#     Element.update('shelfListfalse_' + book_id, request.responseText)\n",
    "#     afterShelfSave(checkbox_id, element_id, unique_id, shelf_name.escapeHTML())\n",
    "#   }\n",
    "\n",
    "#   function refreshGroupBox(group_id, book_id) {\n",
    "#     new Ajax.Updater('addGroupBooks' + book_id + '', '/group/add_book_box', {asynchronous:true, evalScripts:true, onSuccess:function(request){refreshGroupBoxComplete(request, book_id);}, parameters:'id=' + group_id + '&book_id=' + book_id + '&refresh=true' + '&authenticity_token=' + encodeURIComponent('TPiYJh4ipJVR9exH6JrhoyC80juQM0urTqVg6xqBafpiyaqM62potHHUUaHYakVnlA+uXOsfjeOgmPgaboH8vg==')})\n",
    "#   }\n",
    "# //]]>\n",
    "# </script>\n",
    "# <script>\n",
    "# //<![CDATA[\n",
    "#       var newTip = new Tip($('quote_book_link_23552486'), \"\\n\\n  <h2><a class=\\\"readable bookTitle\\\" href=\\\"https://www.goodreads.com/book/show/23552486-naked-human?from_choice=false&amp;from_home_module=false\\\">Naked Human<\\/a><\\/h2>\\n\\n      <div>\\n        by <a class=\\\"authorName\\\" href=\\\"/author/show/8197776.Christopher_Poindexter\\\">Christopher Poindexter<\\/a><span title=\\\"Goodreads Author!\\\">*<\\/span>\\n      <\\/div>\\n\\n          <div class=\\\"smallText uitext darkGreyText\\\">\\n            <span class=\\\"minirating\\\"><span class=\\\"stars staticStars notranslate\\\"><span size=\\\"12x12\\\" class=\\\"staticStar p10\\\"><\\/span><span size=\\\"12x12\\\" class=\\\"staticStar p10\\\"><\\/span><span size=\\\"12x12\\\" class=\\\"staticStar p10\\\"><\\/span><span size=\\\"12x12\\\" class=\\\"staticStar p10\\\"><\\/span><span size=\\\"12x12\\\" class=\\\"staticStar p3\\\"><\\/span><\\/span> 4.22 avg rating &mdash; 783 ratings<\\/span>            &mdash; published 2015\\n          <\\/div>\\n\\n    <div class=\\\"addBookTipDescription\\\">\\n      \\n<span id=\\\"freeTextContainer13395929370328906184\\\">The blooming of madness. Christopher Poindexter\\'s first book is an exploration of humanity at its finest and at its worst. This is a story written between 2011-2015 about the discovery of what makes us human: doing whatever it takes to keep the lonel<\\/span>\\n  <span id=\\\"freeText13395929370328906184\\\" style=\\\"display:none\\\">The blooming of madness. Christopher Poindexter\\'s first book is an exploration of humanity at its finest and at its worst. This is a story written between 2011-2015 about the discovery of what makes us human: doing whatever it takes to keep the loneliness away.<\\/span>\\n  <a data-text-id=\\\"13395929370328906184\\\" href=\\\"#\\\" onclick=\\\"swapContent(\\$(this));; return false;\\\">...more<\\/a>\\n\\n    <\\/div>\\n\\n      <div class=\\'wtrButtonContainer wtrSignedOut\\' id=\\'1_book_23552486\\'>\\n<div class=\\'wtrUp wtrLeft\\'>\\n<form action=\\\"/shelf/add_to_shelf\\\" accept-charset=\\\"UTF-8\\\" method=\\\"post\\\"><input name=\\\"utf8\\\" type=\\\"hidden\\\" value=\\\"&#x2713;\\\" /><input type=\\\"hidden\\\" name=\\\"authenticity_token\\\" value=\\\"kwJoNXVYW+leayF4WlPhP4BuupF0lmgiq3C8xirkVim9M1qfgBCXyH5KnJ5qo0X7NN3G9g+6rmpFTSQ3XuTDbQ==\\\" />\\n<input type=\\\"hidden\\\" name=\\\"book_id\\\" id=\\\"book_id\\\" value=\\\"23552486\\\" />\\n<input type=\\\"hidden\\\" name=\\\"name\\\" id=\\\"name\\\" value=\\\"to-read\\\" />\\n<input type=\\\"hidden\\\" name=\\\"unique_id\\\" id=\\\"unique_id\\\" value=\\\"1_book_23552486\\\" />\\n<input type=\\\"hidden\\\" name=\\\"wtr_new\\\" id=\\\"wtr_new\\\" value=\\\"true\\\" />\\n<input type=\\\"hidden\\\" name=\\\"from_choice\\\" id=\\\"from_choice\\\" value=\\\"false\\\" />\\n<input type=\\\"hidden\\\" name=\\\"from_home_module\\\" id=\\\"from_home_module\\\" value=\\\"false\\\" />\\n<input type=\\\"hidden\\\" name=\\\"ref\\\" id=\\\"ref\\\" value=\\\"\\\" class=\\\"wtrLeftUpRef\\\" />\\n<input type=\\\"hidden\\\" name=\\\"existing_review\\\" id=\\\"existing_review\\\" value=\\\"false\\\" class=\\\"wtrExisting\\\" />\\n<input type=\\\"hidden\\\" name=\\\"page_url\\\" id=\\\"page_url\\\" value=\\\"/author/quotes/8197776.Christopher_Poindexter\\\" />\\n<button class=\\'wtrToRead\\' type=\\'submit\\'>\\n<span class=\\'progressTrigger\\'>Want to Read<\\/span>\\n<span class=\\'progressIndicator\\'>saving…<\\/span>\\n<\\/button>\\n<\\/form>\\n\\n<\\/div>\\n\\n<div class=\\'wtrRight wtrUp\\'>\\n<form class=\\\"hiddenShelfForm\\\" action=\\\"/shelf/add_to_shelf\\\" accept-charset=\\\"UTF-8\\\" method=\\\"post\\\"><input name=\\\"utf8\\\" type=\\\"hidden\\\" value=\\\"&#x2713;\\\" /><input type=\\\"hidden\\\" name=\\\"authenticity_token\\\" value=\\\"Je6efmY7azZv8mVP4NE8QiVtVLJ50djaZv7CA2duwOoL36zUk3OnF0/T2KnQIZiGkd4o1QL9HpKIw1ryE25Vrg==\\\" />\\n<input type=\\\"hidden\\\" name=\\\"unique_id\\\" id=\\\"unique_id\\\" value=\\\"1_book_23552486\\\" />\\n<input type=\\\"hidden\\\" name=\\\"book_id\\\" id=\\\"book_id\\\" value=\\\"23552486\\\" />\\n<input type=\\\"hidden\\\" name=\\\"a\\\" id=\\\"a\\\" />\\n<input type=\\\"hidden\\\" name=\\\"name\\\" id=\\\"name\\\" />\\n<input type=\\\"hidden\\\" name=\\\"from_choice\\\" id=\\\"from_choice\\\" value=\\\"false\\\" />\\n<input type=\\\"hidden\\\" name=\\\"from_home_module\\\" id=\\\"from_home_module\\\" value=\\\"false\\\" />\\n<input type=\\\"hidden\\\" name=\\\"page_url\\\" id=\\\"page_url\\\" value=\\\"/author/quotes/8197776.Christopher_Poindexter\\\" />\\n<\\/form>\\n\\n<button class=\\'wtrShelfButton\\'><\\/button>\\n<div class=\\'wtrShelfMenu\\'>\\n<ul class=\\'wtrExclusiveShelves\\'>\\n<li><button class=\\'wtrExclusiveShelf\\' name=\\'name\\' type=\\'submit\\' value=\\'to-read\\'>\\n<span class=\\'progressTrigger\\'>Want to Read<\\/span>\\n<img alt=\\\"saving…\\\" class=\\\"progressIndicator\\\" src=\\\"https://s.gr-assets.com/assets/loading-trans-ced157046184c3bc7c180ffbfc6825a4.gif\\\" />\\n<\\/button>\\n<\\/li>\\n<li><button class=\\'wtrExclusiveShelf\\' name=\\'name\\' type=\\'submit\\' value=\\'currently-reading\\'>\\n<span class=\\'progressTrigger\\'>Currently Reading<\\/span>\\n<img alt=\\\"saving…\\\" class=\\\"progressIndicator\\\" src=\\\"https://s.gr-assets.com/assets/loading-trans-ced157046184c3bc7c180ffbfc6825a4.gif\\\" />\\n<\\/button>\\n<\\/li>\\n<li><button class=\\'wtrExclusiveShelf\\' name=\\'name\\' type=\\'submit\\' value=\\'read\\'>\\n<span class=\\'progressTrigger\\'>Read<\\/span>\\n<img alt=\\\"saving…\\\" class=\\\"progressIndicator\\\" src=\\\"https://s.gr-assets.com/assets/loading-trans-ced157046184c3bc7c180ffbfc6825a4.gif\\\" />\\n<\\/button>\\n<\\/li>\\n<\\/ul>\\n<\\/div>\\n<\\/div>\\n\\n<div class=\\'ratingStars wtrRating\\'>\\n<div class=\\'starsErrorTooltip hidden\\'>\\nError rating book. Refresh and try again.\\n<\\/div>\\n<div class=\\'myRating uitext greyText\\'>Rate this book<\\/div>\\n<div class=\\'clearRating uitext\\'>Clear rating<\\/div>\\n<div class=\\\"stars\\\" data-resource-id=\\\"23552486\\\" data-user-id=\\\"0\\\" data-submit-url=\\\"/review/rate/23552486?page_url=%2Fauthor%2Fquotes%2F8197776.Christopher_Poindexter&rate_books_page=false&stars_click=false&wtr_button_id=1_book_23552486\\\" data-rating=\\\"0\\\"><a class=\\\"star off\\\" title=\\\"did not like it\\\" href=\\\"#\\\" ref=\\\"\\\">1 of 5 stars<\\/a><a class=\\\"star off\\\" title=\\\"it was ok\\\" href=\\\"#\\\" ref=\\\"\\\">2 of 5 stars<\\/a><a class=\\\"star off\\\" title=\\\"liked it\\\" href=\\\"#\\\" ref=\\\"\\\">3 of 5 stars<\\/a><a class=\\\"star off\\\" title=\\\"really liked it\\\" href=\\\"#\\\" ref=\\\"\\\">4 of 5 stars<\\/a><a class=\\\"star off\\\" title=\\\"it was amazing\\\" href=\\\"#\\\" ref=\\\"\\\">5 of 5 stars<\\/a><\\/div>\\n<\\/div>\\n\\n<\\/div>\\n\\n\\n\\n\\n\", { style: 'addbook', stem: 'leftMiddle', hook: { tip: 'leftMiddle', target: 'rightMiddle' }, offset: { x: 5, y: 0 }, hideOn: false, width: 400, hideAfter: 0.05, delay: 0.35 });\n",
    "#       $('quote_book_link_23552486').observe('prototip:shown', function() {\n",
    "#         if (this.up('#box')) {\n",
    "#           $$('div.prototip').each(function(i){i.setStyle({zIndex: $('box').getStyle('z-index')})});\n",
    "#         } else {\n",
    "#           $$('div.prototip').each(function(i){i.setStyle({zIndex: 6000})});\n",
    "#         }\n",
    "#       });\n",
    "\n",
    "#       newTip['wrapper'].addClassName('prototipAllowOverflow');\n",
    "\n",
    "#         $('quote_book_link_23552486').observe('prototip:shown', function () {\n",
    "#           $$('div.prototip').each(function (e) {\n",
    "#             if ($('quote_book_link_23552486').hasClassName('ignored')) {\n",
    "#               e.setStyle({'display': 'none'});\n",
    "#               return;\n",
    "#             }\n",
    "#             e.setStyle({'overflow': 'visible'});\n",
    "#           });\n",
    "#         });\n",
    "#       $('quote_book_link_23552486').observe('prototip:hidden', function () {\n",
    "#         $$('span.elementTwo').each(function (e) {\n",
    "#           if (e.getStyle('display') !== 'none') {\n",
    "#             var lessLink = e.next();\n",
    "#             swapContent(lessLink);\n",
    "#           }\n",
    "#         });\n",
    "#       });\n",
    "\n",
    "# //]]>\n",
    "# </script>\n",
    "# </div>\n",
    "# \"\"\""
   ]
  },
  {
   "cell_type": "code",
   "execution_count": 132,
   "metadata": {},
   "outputs": [],
   "source": [
    "# text = \"\"\"<div class=\"quoteText\">\n",
    "#       “I loved her not for the way she danced with my angels, but for the way the sound of her name could silence my demons”\n",
    "#   <br/>  ―\n",
    "#   <span class=\"authorOrTitle\">\n",
    "#     Christopher Poindexter\n",
    "#   </span>\n",
    "# </div>\"\"\"\n",
    "# process_quote(text)"
   ]
  },
  {
   "cell_type": "code",
   "execution_count": 134,
   "metadata": {},
   "outputs": [
    {
     "name": "stdout",
     "output_type": "stream",
     "text": [
      "Scraping https://www.goodreads.com/author/quotes/8197776.Christopher_Poindexter?page=1\n",
      "Scraping https://www.goodreads.com/author/quotes/8197776.Christopher_Poindexter?page=2\n"
     ]
    }
   ],
   "source": [
    "unprocessed_quotes = list()\n",
    "\n",
    "for i in range(2):\n",
    "    url = f'{base_url}?page={i+1}'\n",
    "    print(f'Scraping {url}')\n",
    "    page = requests.get(url)\n",
    "    soup = BeautifulSoup(page.content, 'html.parser')\n",
    "    table = soup.find_all('div', attrs = {'class':'quoteText'})\n",
    "    for row in table:\n",
    "        unprocessed_quotes.append(str(row))"
   ]
  },
  {
   "cell_type": "code",
   "execution_count": 135,
   "metadata": {},
   "outputs": [
    {
     "data": {
      "text/plain": [
       "53"
      ]
     },
     "execution_count": 135,
     "metadata": {},
     "output_type": "execute_result"
    }
   ],
   "source": [
    "len(unprocessed_quotes)"
   ]
  },
  {
   "cell_type": "code",
   "execution_count": 136,
   "metadata": {},
   "outputs": [
    {
     "name": "stdout",
     "output_type": "stream",
     "text": [
      "<div class=\"quoteText\">\n",
      "      “And in the end, we were all just humans.. drunk on the idea that love, only love, could heal our brokenness.”\n",
      "  <br/>  ―\n",
      "  <span class=\"authorOrTitle\">\n",
      "    Christopher Poindexter\n",
      "  </span>\n",
      "</div>\n"
     ]
    }
   ],
   "source": [
    "print(unprocessed_quotes[0])"
   ]
  },
  {
   "cell_type": "code",
   "execution_count": 161,
   "metadata": {},
   "outputs": [],
   "source": [
    "quotes = [process_quote(quote) for quote in unprocessed_quotes]"
   ]
  },
  {
   "cell_type": "code",
   "execution_count": 162,
   "metadata": {},
   "outputs": [
    {
     "data": {
      "text/plain": [
       "53"
      ]
     },
     "execution_count": 162,
     "metadata": {},
     "output_type": "execute_result"
    }
   ],
   "source": [
    "len(quotes)"
   ]
  },
  {
   "cell_type": "code",
   "execution_count": 163,
   "metadata": {},
   "outputs": [
    {
     "name": "stdout",
     "output_type": "stream",
     "text": [
      "And in the end\n",
      "we were all just humans.. drunk on the idea that love\n",
      "only love\n",
      "could heal our brokenness.\n"
     ]
    }
   ],
   "source": [
    "print(quotes[0])"
   ]
  },
  {
   "cell_type": "code",
   "execution_count": 164,
   "metadata": {},
   "outputs": [
    {
     "name": "stdout",
     "output_type": "stream",
     "text": [
      "I watched a girl in a sundress kiss another girl on a park bench\n",
      "and just as the sunlight spilled perfectly onto both of their hair\n",
      "I thought to myself: ‘How bravely beautiful it is\n",
      "that sometimes\n",
      "the sea wants the city\n",
      "even when it has been told its entire life it was meant for the shore.\n"
     ]
    }
   ],
   "source": [
    "print(quotes[10])"
   ]
  },
  {
   "cell_type": "code",
   "execution_count": 165,
   "metadata": {},
   "outputs": [],
   "source": [
    "df = pd.DataFrame({'quotes': quotes})"
   ]
  },
  {
   "cell_type": "code",
   "execution_count": 166,
   "metadata": {},
   "outputs": [
    {
     "data": {
      "text/html": [
       "<div>\n",
       "<style scoped>\n",
       "    .dataframe tbody tr th:only-of-type {\n",
       "        vertical-align: middle;\n",
       "    }\n",
       "\n",
       "    .dataframe tbody tr th {\n",
       "        vertical-align: top;\n",
       "    }\n",
       "\n",
       "    .dataframe thead th {\n",
       "        text-align: right;\n",
       "    }\n",
       "</style>\n",
       "<table border=\"1\" class=\"dataframe\">\n",
       "  <thead>\n",
       "    <tr style=\"text-align: right;\">\n",
       "      <th></th>\n",
       "      <th>quotes</th>\n",
       "    </tr>\n",
       "  </thead>\n",
       "  <tbody>\n",
       "    <tr>\n",
       "      <th>0</th>\n",
       "      <td>And in the end\\nwe were all just humans.. drun...</td>\n",
       "    </tr>\n",
       "    <tr>\n",
       "      <th>1</th>\n",
       "      <td>I loved her not for the way she danced with my...</td>\n",
       "    </tr>\n",
       "    <tr>\n",
       "      <th>2</th>\n",
       "      <td>Sometimes I sit alone under the stars and thin...</td>\n",
       "    </tr>\n",
       "    <tr>\n",
       "      <th>3</th>\n",
       "      <td>Your darkness is a symphony\\nPlayed in explosi...</td>\n",
       "    </tr>\n",
       "    <tr>\n",
       "      <th>4</th>\n",
       "      <td>It was rather beautiful: the way he put her in...</td>\n",
       "    </tr>\n",
       "  </tbody>\n",
       "</table>\n",
       "</div>"
      ],
      "text/plain": [
       "                                              quotes\n",
       "0  And in the end\\nwe were all just humans.. drun...\n",
       "1  I loved her not for the way she danced with my...\n",
       "2  Sometimes I sit alone under the stars and thin...\n",
       "3  Your darkness is a symphony\\nPlayed in explosi...\n",
       "4  It was rather beautiful: the way he put her in..."
      ]
     },
     "execution_count": 166,
     "metadata": {},
     "output_type": "execute_result"
    }
   ],
   "source": [
    "df.head()"
   ]
  },
  {
   "cell_type": "code",
   "execution_count": 167,
   "metadata": {},
   "outputs": [],
   "source": [
    "df.to_csv('poindexter_quotes.csv', index=False)"
   ]
  }
 ],
 "metadata": {
  "kernelspec": {
   "display_name": "Python 3",
   "language": "python",
   "name": "python3"
  },
  "language_info": {
   "codemirror_mode": {
    "name": "ipython",
    "version": 3
   },
   "file_extension": ".py",
   "mimetype": "text/x-python",
   "name": "python",
   "nbconvert_exporter": "python",
   "pygments_lexer": "ipython3",
   "version": "3.6.5"
  }
 },
 "nbformat": 4,
 "nbformat_minor": 2
}
